{
 "cells": [
  {
   "cell_type": "markdown",
   "id": "0e658be0",
   "metadata": {},
   "source": [
    "# # day 1 day 7 rretention "
   ]
  },
  {
   "cell_type": "markdown",
   "id": "18564e66",
   "metadata": {},
   "source": [
    "As players progress through the levels of the game, they will occasionally encounter gates that force them to wait a non-trivial amount of time or make an in-app purchase to progress. In addition to driving in-app purchases, these gates serve the important purpose of giving players an enforced break from playing the game, hopefully resulting in that the player's enjoyment of the game being increased and prolonged."
   ]
  },
  {
   "cell_type": "code",
   "execution_count": 30,
   "id": "42ea3b2e",
   "metadata": {},
   "outputs": [
    {
     "data": {
      "text/html": [
       "<div>\n",
       "<style scoped>\n",
       "    .dataframe tbody tr th:only-of-type {\n",
       "        vertical-align: middle;\n",
       "    }\n",
       "\n",
       "    .dataframe tbody tr th {\n",
       "        vertical-align: top;\n",
       "    }\n",
       "\n",
       "    .dataframe thead th {\n",
       "        text-align: right;\n",
       "    }\n",
       "</style>\n",
       "<table border=\"1\" class=\"dataframe\">\n",
       "  <thead>\n",
       "    <tr style=\"text-align: right;\">\n",
       "      <th></th>\n",
       "      <th>userid</th>\n",
       "      <th>version</th>\n",
       "      <th>sum_gamerounds</th>\n",
       "      <th>retention_1</th>\n",
       "      <th>retention_7</th>\n",
       "    </tr>\n",
       "  </thead>\n",
       "  <tbody>\n",
       "    <tr>\n",
       "      <th>0</th>\n",
       "      <td>116</td>\n",
       "      <td>gate_30</td>\n",
       "      <td>3</td>\n",
       "      <td>False</td>\n",
       "      <td>False</td>\n",
       "    </tr>\n",
       "    <tr>\n",
       "      <th>1</th>\n",
       "      <td>337</td>\n",
       "      <td>gate_30</td>\n",
       "      <td>38</td>\n",
       "      <td>True</td>\n",
       "      <td>False</td>\n",
       "    </tr>\n",
       "    <tr>\n",
       "      <th>2</th>\n",
       "      <td>377</td>\n",
       "      <td>gate_40</td>\n",
       "      <td>165</td>\n",
       "      <td>True</td>\n",
       "      <td>False</td>\n",
       "    </tr>\n",
       "    <tr>\n",
       "      <th>3</th>\n",
       "      <td>483</td>\n",
       "      <td>gate_40</td>\n",
       "      <td>1</td>\n",
       "      <td>False</td>\n",
       "      <td>False</td>\n",
       "    </tr>\n",
       "    <tr>\n",
       "      <th>4</th>\n",
       "      <td>488</td>\n",
       "      <td>gate_40</td>\n",
       "      <td>179</td>\n",
       "      <td>True</td>\n",
       "      <td>True</td>\n",
       "    </tr>\n",
       "  </tbody>\n",
       "</table>\n",
       "</div>"
      ],
      "text/plain": [
       "   userid  version  sum_gamerounds  retention_1  retention_7\n",
       "0     116  gate_30               3        False        False\n",
       "1     337  gate_30              38         True        False\n",
       "2     377  gate_40             165         True        False\n",
       "3     483  gate_40               1        False        False\n",
       "4     488  gate_40             179         True         True"
      ]
     },
     "execution_count": 30,
     "metadata": {},
     "output_type": "execute_result"
    }
   ],
   "source": [
    "# Importing pandas\n",
    "import pandas as pd\n",
    "\n",
    "# Reading in the data\n",
    "df =pd.read_csv(\"cookie_cats.csv\")\n",
    "\n",
    "# Showing the first few rows\n",
    "df.head()"
   ]
  },
  {
   "cell_type": "code",
   "execution_count": 31,
   "id": "3c500427",
   "metadata": {},
   "outputs": [
    {
     "data": {
      "text/plain": [
       "(90189, 5)"
      ]
     },
     "execution_count": 31,
     "metadata": {},
     "output_type": "execute_result"
    }
   ],
   "source": [
    "df.shape"
   ]
  },
  {
   "cell_type": "code",
   "execution_count": 32,
   "id": "6530eb3d",
   "metadata": {},
   "outputs": [
    {
     "name": "stdout",
     "output_type": "stream",
     "text": [
      "<class 'pandas.core.frame.DataFrame'>\n",
      "RangeIndex: 90189 entries, 0 to 90188\n",
      "Data columns (total 5 columns):\n",
      " #   Column          Non-Null Count  Dtype \n",
      "---  ------          --------------  ----- \n",
      " 0   userid          90189 non-null  int64 \n",
      " 1   version         90189 non-null  object\n",
      " 2   sum_gamerounds  90189 non-null  int64 \n",
      " 3   retention_1     90189 non-null  bool  \n",
      " 4   retention_7     90189 non-null  bool  \n",
      "dtypes: bool(2), int64(2), object(1)\n",
      "memory usage: 2.2+ MB\n"
     ]
    }
   ],
   "source": [
    "df.info()"
   ]
  },
  {
   "cell_type": "code",
   "execution_count": 7,
   "id": "fde4cdc4",
   "metadata": {},
   "outputs": [
    {
     "data": {
      "text/html": [
       "<div>\n",
       "<style scoped>\n",
       "    .dataframe tbody tr th:only-of-type {\n",
       "        vertical-align: middle;\n",
       "    }\n",
       "\n",
       "    .dataframe tbody tr th {\n",
       "        vertical-align: top;\n",
       "    }\n",
       "\n",
       "    .dataframe thead th {\n",
       "        text-align: right;\n",
       "    }\n",
       "</style>\n",
       "<table border=\"1\" class=\"dataframe\">\n",
       "  <thead>\n",
       "    <tr style=\"text-align: right;\">\n",
       "      <th></th>\n",
       "      <th>userid</th>\n",
       "      <th>sum_gamerounds</th>\n",
       "    </tr>\n",
       "  </thead>\n",
       "  <tbody>\n",
       "    <tr>\n",
       "      <th>count</th>\n",
       "      <td>9.018900e+04</td>\n",
       "      <td>90189.000000</td>\n",
       "    </tr>\n",
       "    <tr>\n",
       "      <th>mean</th>\n",
       "      <td>4.998412e+06</td>\n",
       "      <td>51.872457</td>\n",
       "    </tr>\n",
       "    <tr>\n",
       "      <th>std</th>\n",
       "      <td>2.883286e+06</td>\n",
       "      <td>195.050858</td>\n",
       "    </tr>\n",
       "    <tr>\n",
       "      <th>min</th>\n",
       "      <td>1.160000e+02</td>\n",
       "      <td>0.000000</td>\n",
       "    </tr>\n",
       "    <tr>\n",
       "      <th>25%</th>\n",
       "      <td>2.512230e+06</td>\n",
       "      <td>5.000000</td>\n",
       "    </tr>\n",
       "    <tr>\n",
       "      <th>50%</th>\n",
       "      <td>4.995815e+06</td>\n",
       "      <td>16.000000</td>\n",
       "    </tr>\n",
       "    <tr>\n",
       "      <th>75%</th>\n",
       "      <td>7.496452e+06</td>\n",
       "      <td>51.000000</td>\n",
       "    </tr>\n",
       "    <tr>\n",
       "      <th>max</th>\n",
       "      <td>9.999861e+06</td>\n",
       "      <td>49854.000000</td>\n",
       "    </tr>\n",
       "  </tbody>\n",
       "</table>\n",
       "</div>"
      ],
      "text/plain": [
       "             userid  sum_gamerounds\n",
       "count  9.018900e+04    90189.000000\n",
       "mean   4.998412e+06       51.872457\n",
       "std    2.883286e+06      195.050858\n",
       "min    1.160000e+02        0.000000\n",
       "25%    2.512230e+06        5.000000\n",
       "50%    4.995815e+06       16.000000\n",
       "75%    7.496452e+06       51.000000\n",
       "max    9.999861e+06    49854.000000"
      ]
     },
     "execution_count": 7,
     "metadata": {},
     "output_type": "execute_result"
    }
   ],
   "source": [
    "df.describe()"
   ]
  },
  {
   "cell_type": "code",
   "execution_count": 8,
   "id": "c29b3758",
   "metadata": {},
   "outputs": [
    {
     "data": {
      "text/plain": [
       "userid            0\n",
       "version           0\n",
       "sum_gamerounds    0\n",
       "retention_1       0\n",
       "retention_7       0\n",
       "dtype: int64"
      ]
     },
     "execution_count": 8,
     "metadata": {},
     "output_type": "execute_result"
    }
   ],
   "source": [
    "df.isnull().sum()"
   ]
  },
  {
   "cell_type": "markdown",
   "id": "d499ae24",
   "metadata": {},
   "source": [
    "# observation"
   ]
  },
  {
   "cell_type": "raw",
   "id": "8646ca2c",
   "metadata": {},
   "source": [
    "data we have is from 90,189 players\n",
    "userid - a unique number that identifies each player.\n",
    "version - whether the player was put in the control group (gate_30 - a gate at level 30) or the group with the moved gate (gate_40 - a gate at level 40).\n",
    "sum_gamerounds - the number of game rounds played by the player during the first 14 days after install.\n",
    "retention_1 - did the player come back and play 1 day after installing?\n",
    "retention_7 - did the player come back and play 7 days after installing?"
   ]
  },
  {
   "cell_type": "code",
   "execution_count": 9,
   "id": "efaf8a6e",
   "metadata": {},
   "outputs": [
    {
     "data": {
      "text/plain": [
       "version\n",
       "gate_30    44700\n",
       "gate_40    45489\n",
       "dtype: int64"
      ]
     },
     "execution_count": 9,
     "metadata": {},
     "output_type": "execute_result"
    }
   ],
   "source": [
    "## Counting the number of players in each AB \n",
    "df.groupby([\"version\"]).size()"
   ]
  },
  {
   "cell_type": "code",
   "execution_count": 10,
   "id": "442105fc",
   "metadata": {},
   "outputs": [
    {
     "data": {
      "text/plain": [
       "sum_gamerounds\n",
       "0     3994\n",
       "1     5538\n",
       "2     4606\n",
       "3     3958\n",
       "4     3629\n",
       "      ... \n",
       "95     161\n",
       "96     135\n",
       "97     137\n",
       "98     139\n",
       "99     133\n",
       "Length: 100, dtype: int64"
      ]
     },
     "execution_count": 10,
     "metadata": {},
     "output_type": "execute_result"
    }
   ],
   "source": [
    "plot_df = df.groupby(\"sum_gamerounds\").size().head(100)\n",
    "plot_df\n",
    "#p_df = df.groupby('sum_gamerounds')['userid'].count()\n",
    "#p_df"
   ]
  },
  {
   "cell_type": "code",
   "execution_count": 11,
   "id": "bdc56b16",
   "metadata": {},
   "outputs": [
    {
     "data": {
      "text/plain": [
       "Text(0, 0.5, 'User Count')"
      ]
     },
     "execution_count": 11,
     "metadata": {},
     "output_type": "execute_result"
    },
    {
     "data": {
      "image/png": "[encoded data removed]",
      "text/plain": [
       "<Figure size 640x480 with 1 Axes>"
      ]
     },
     "metadata": {},
     "output_type": "display_data"
    }
   ],
   "source": [
    "ax=plot_df.plot(x=\"sum_gamerounds\", y=\"userid\", kind=\"hist\",bins=100 )\n",
    "ax.set_xlabel(\"Game Rounds\")\n",
    "ax.set_ylabel(\"User Count\")\n",
    "\n",
    "#changing bins to understand more"
   ]
  },
  {
   "cell_type": "code",
   "execution_count": 12,
   "id": "a9c4d3ac",
   "metadata": {},
   "outputs": [
    {
     "data": {
      "text/plain": [
       "userid            3994\n",
       "version           3994\n",
       "sum_gamerounds    3994\n",
       "retention_1       3994\n",
       "retention_7       3994\n",
       "dtype: int64"
      ]
     },
     "execution_count": 12,
     "metadata": {},
     "output_type": "execute_result"
    }
   ],
   "source": [
    "#ppl who installed the game but never played\n",
    "df[df[\"sum_gamerounds\"]==0].count()"
   ]
  },
  {
   "cell_type": "code",
   "execution_count": 51,
   "id": "4c8d483c",
   "metadata": {
    "scrolled": true
   },
   "outputs": [
    {
     "data": {
      "text/plain": [
       "3994"
      ]
     },
     "execution_count": 51,
     "metadata": {},
     "output_type": "execute_result"
    }
   ],
   "source": [
    "(df[\"sum_gamerounds\"] == 0).sum()"
   ]
  },
  {
   "cell_type": "markdown",
   "id": "1b466ccd",
   "metadata": {},
   "source": [
    "# observation\n",
    "What we want is for players to like the game and to get hooked. A common metric in the video gaming industry for how fun and engaging a game is 1-day retention: The percentage of players that comes back and plays the game one day after they have installed it. The higher 1-day retention is, the easier it is to retain players and build a large player base.\n",
    "\n"
   ]
  },
  {
   "cell_type": "code",
   "execution_count": 53,
   "id": "f936b744",
   "metadata": {},
   "outputs": [
    {
     "data": {
      "text/plain": [
       "99.91462756435263"
      ]
     },
     "execution_count": 53,
     "metadata": {},
     "output_type": "execute_result"
    }
   ],
   "source": [
    "# percentage of ppl who played at least one game \n",
    "#x=(df[\"sum_gamerounds\"] == 0).sum()/df.sum()\n",
    "x = (df[\"sum_gamerounds\"].sum()-(df[\"sum_gamerounds\"] == 0).sum()) / df[\"sum_gamerounds\"].sum()*100\n",
    "x"
   ]
  },
  {
   "cell_type": "code",
   "execution_count": 15,
   "id": "de9f32e0",
   "metadata": {},
   "outputs": [
    {
     "data": {
      "text/plain": [
       "0.4452095044850259"
      ]
     },
     "execution_count": 15,
     "metadata": {},
     "output_type": "execute_result"
    }
   ],
   "source": [
    "# retention .sum is on t and f values so summed all 1 for all true and count gave the totall value count\n",
    "df[\"retention_1\"].sum()/df[\"retention_1\"].count()"
   ]
  },
  {
   "cell_type": "code",
   "execution_count": 16,
   "id": "d538177e",
   "metadata": {},
   "outputs": [
    {
     "data": {
      "text/plain": [
       "0.4452095044850259"
      ]
     },
     "execution_count": 16,
     "metadata": {},
     "output_type": "execute_result"
    }
   ],
   "source": [
    "df[\"retention_1\"].mean()"
   ]
  },
  {
   "cell_type": "markdown",
   "id": "b37530ff",
   "metadata": {},
   "source": [
    "So, a little less than half of the players come back one day after installing the game."
   ]
  },
  {
   "cell_type": "code",
   "execution_count": 17,
   "id": "e0e62525",
   "metadata": {},
   "outputs": [
    {
     "data": {
      "text/plain": [
       "version\n",
       "gate_30    0.448188\n",
       "gate_40    0.442283\n",
       "Name: retention_1, dtype: float64"
      ]
     },
     "execution_count": 17,
     "metadata": {},
     "output_type": "execute_result"
    }
   ],
   "source": [
    "# retention rate for each ab group \n",
    "df.groupby(\"version\")['retention_1'].mean()"
   ]
  },
  {
   "cell_type": "markdown",
   "id": "7e79be03",
   "metadata": {},
   "source": [
    "It appears that there was a slight decrease in 1-day retention when the gate was moved to level 40 (44.2%) compared to the control when it was at level 30 (44.8%). It's a small change, but even small changes in retention can have a large impact.\n"
   ]
  },
  {
   "cell_type": "code",
   "execution_count": 18,
   "id": "971faeb4",
   "metadata": {},
   "outputs": [
    {
     "data": {
      "text/plain": [
       "<AxesSubplot:ylabel='Density'>"
      ]
     },
     "execution_count": 18,
     "metadata": {},
     "output_type": "execute_result"
    },
    {
     "data": {
      "image/png": "[encoded data removed]",
      "text/plain": [
       "<Figure size 640x480 with 1 Axes>"
      ]
     },
     "metadata": {},
     "output_type": "display_data"
    }
   ],
   "source": [
    "# Creating an list with bootstrapped means for each AB-group\n",
    "boot_1d = []\n",
    "for i in range(500):\n",
    "    boot_mean = df.sample(frac=1, replace=True).groupby('version')['retention_1'].mean()\n",
    "    boot_1d.append(boot_mean)\n",
    "    \n",
    "# Transforming the list to a DataFrame\n",
    "boot_1d = pd.DataFrame(boot_1d)\n",
    "    \n",
    "# A Kernel Density Estimate plot of the bootstrap distributions\n",
    "boot_1d.plot(kind='kde')\n"
   ]
  },
  {
   "cell_type": "code",
   "execution_count": 56,
   "id": "70b2b40c",
   "metadata": {},
   "outputs": [
    {
     "data": {
      "text/plain": [
       "<AxesSubplot:ylabel='Density'>"
      ]
     },
     "execution_count": 56,
     "metadata": {},
     "output_type": "execute_result"
    },
    {
     "data": {
      "image/png": "[encoded data removed]",
      "text/plain": [
       "<Figure size 640x480 with 1 Axes>"
      ]
     },
     "metadata": {},
     "output_type": "display_data"
    }
   ],
   "source": [
    "boot_1d['diff'] = (boot_1d['gate_30']-boot_1d['gate_40'])/boot_1d['gate_30']*100\n",
    "boot_1d\n",
    "\n",
    "boot_1d[\"diff\"].plot(kind='kde')"
   ]
  },
  {
   "cell_type": "markdown",
   "id": "8f06aecf",
   "metadata": {},
   "source": [
    "# observation\n",
    "From this chart, we can see that the most likely % difference is around 1% - 2%, and that most of the distribution is above 0%, in favor of a gate at level 30."
   ]
  },
  {
   "cell_type": "code",
   "execution_count": 26,
   "id": "2bbfdae3",
   "metadata": {},
   "outputs": [
    {
     "data": {
      "text/plain": [
       "0.952"
      ]
     },
     "execution_count": 26,
     "metadata": {},
     "output_type": "execute_result"
    }
   ],
   "source": [
    "#probability that the difference is above 0%\n",
    "prob = (boot_1d['diff'] > 0).sum() / len(boot_1d)\n",
    "prob"
   ]
  },
  {
   "cell_type": "markdown",
   "id": "d4a9d70e",
   "metadata": {},
   "source": [
    "# observation\n",
    "\n",
    "no we understood that 1 day retention is better at The bootstrap analysis tells us that there is a high probability that 1-day retention is better when the gate is at level 30."
   ]
  },
  {
   "cell_type": "markdown",
   "id": "ed87082c",
   "metadata": {},
   "source": [
    "the players have only been playing the game for one day, it is likely that most players haven't reached level 30 yet. That is, many players won't have been affected by the gate, even if it's as early as level 30.But after having played for a week, more players should have reached level 40, and therefore it makes sense to also look at 7-day retention. That is: What percentage of the people that installed the game also showed up a week later to play the game again."
   ]
  },
  {
   "cell_type": "code",
   "execution_count": 59,
   "id": "98757eef",
   "metadata": {},
   "outputs": [
    {
     "data": {
      "text/plain": [
       "version\n",
       "gate_30    0.190201\n",
       "gate_40    0.182000\n",
       "Name: retention_7, dtype: float64"
      ]
     },
     "execution_count": 59,
     "metadata": {},
     "output_type": "execute_result"
    }
   ],
   "source": [
    "#7 day retention of both ab group \n",
    "\n",
    "df.groupby(\"version\")[\"retention_7\"].sum()/df.groupby(\"version\")[\"retention_7\"].count()"
   ]
  },
  {
   "cell_type": "code",
   "execution_count": 71,
   "id": "24a2df66",
   "metadata": {
    "scrolled": true
   },
   "outputs": [
    {
     "data": {
      "image/png": "[encoded data removed]",
      "text/plain": [
       "<Figure size 640x480 with 1 Axes>"
      ]
     },
     "metadata": {},
     "output_type": "display_data"
    }
   ],
   "source": [
    "# Creating a list with bootstrapped means for each AB-group\n",
    "boot_7d = []\n",
    "for i in range(500):\n",
    "    boot_mean = df.sample(frac=1,replace=True).groupby('version')[\"retention_7\"].mean()\n",
    "    boot_7d.append(boot_mean)\n",
    "    \n",
    "# Transforming the list to a DataFrame\n",
    "boot_7d=pd.DataFrame(boot_7d)\n",
    "\n",
    "# Adding a column with the % difference between the two AB-groups\n",
    "boot_7d['diff'] = (boot_7d[\"gate_30\"]-boot_7d['gate_40'])/boot_7d['gate_30']*100\n",
    "\n",
    "# Ploting the bootstrap % difference\n",
    "ax = boot_7d['diff'].plot(kind='kde')\n",
    "ax.set_xlabel(\"% difference in means\")\n",
    "\n",
    "# Calculating the probability that 7-day retention is greater when the gate is at level 30\n",
    "prob = (boot_7d[\"diff\"]>0).sum()/len(boot_7d)\n",
    "\n"
   ]
  },
  {
   "cell_type": "markdown",
   "id": "bf8a5131",
   "metadata": {},
   "source": [
    "# conclusion\n",
    "The bootstrap result tells us that there is strong evidence that 7-day retention is higher when the gate is at level 30 than when it is at level 40. The conclusion is: If we want to keep retention high — both 1-day and 7-day retention — we should not move the gate from level 30 to level 40. "
   ]
  },
  {
   "cell_type": "markdown",
   "id": "7bf62032",
   "metadata": {},
   "source": [
    "So, why is retention higher when the gate is positioned earlier? One could expect the opposite: The later the obstacle, the longer people are going to engage with the game. But this is not what the data tells us. The theory of hedonic adaptation can give one explanation for this. In short, hedonic adaptation is the tendency for people to get less and less enjoyment out of a fun activity over time if that activity is undertaken continuously. By forcing players to take a break when they reach a gate, their enjoyment of the game is prolonged. But when the gate is moved to level 40, fewer players make it far enough, and they are more likely to quit the game because they simply got bored of it.\n"
   ]
  },
  {
   "cell_type": "code",
   "execution_count": null,
   "id": "65b30ec5",
   "metadata": {},
   "outputs": [],
   "source": []
  }
 ],
 "metadata": {
  "kernelspec": {
   "display_name": "Python 3 (ipykernel)",
   "language": "python",
   "name": "python3"
  },
  "language_info": {
   "codemirror_mode": {
    "name": "ipython",
    "version": 3
   },
   "file_extension": ".py",
   "mimetype": "text/x-python",
   "name": "python",
   "nbconvert_exporter": "python",
   "pygments_lexer": "ipython3",
   "version": "3.9.13"
  }
 },
 "nbformat": 4,
 "nbformat_minor": 5
}
